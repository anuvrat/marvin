{
 "cells": [
  {
   "cell_type": "markdown",
   "source": [
    "### Spotify User Artists\n",
    "\n",
    "This notebook helps you find the top 50 artists you've listened to. To run this notebook, you need the following\n",
    "libraries:\n",
    "* python3\n",
    "* spotipy (https://github.com/plamere/spotipy)\n",
    "* tabulate (https://github.com/astanin/python-tabulate)\n",
    "* cachetools (https://github.com/tkem/cachetools/)\n",
    "\n",
    "You will also need to create your own Spotify application by visiting: https://developer.spotify.com/dashboard/applications.\n",
    "You'll need the CLIENT_ID and CLIENT_SECRET for your application.\n",
    "\n",
    "This notebook will prompt you to login to Spotify in your native browser and grant the following permissions:\n",
    "* **user-top-read:** Fetch the top artists from Spotify for your user account.\n",
    "* **user-read-recently-played:** Get 50 recently played songs by your account. We use this to generate your recent top genres."
   ],
   "metadata": {
    "collapsed": false
   }
  },
  {
   "cell_type": "markdown",
   "source": [
    "### Configs\n",
    "Feel free to update the configs in the following cell."
   ],
   "metadata": {
    "collapsed": false,
    "pycharm": {
     "name": "#%% md\n"
    }
   }
  },
  {
   "cell_type": "code",
   "execution_count": 27,
   "outputs": [],
   "source": [
    "# Valid values: long_term - calculated from several years of data and including all new data as it becomes available,\n",
    "#               medium_term - approximately last 6 months,\n",
    "#               short_term - approximately last 4 weeks\n",
    "TIME_RANGE = 'long_term'\n",
    "\n",
    "# You can find your client id and secret at: https://developer.spotify.com/dashboard/applications\n",
    "CLIENT_ID = ''\n",
    "CLIENT_SECRET = ''"
   ],
   "metadata": {
    "collapsed": false,
    "pycharm": {
     "name": "#%%\n"
    }
   }
  },
  {
   "cell_type": "code",
   "execution_count": 28,
   "metadata": {
    "collapsed": true
   },
   "outputs": [],
   "source": [
    "import spotipy\n",
    "from spotipy.oauth2 import SpotifyOAuth\n",
    "from tabulate import tabulate\n",
    "from cachetools import cached, TTLCache"
   ]
  },
  {
   "cell_type": "markdown",
   "source": [
    "Define the auth function. The result is cached for 1 hour to avoid switching to browser everytime you execute the\n",
    "notebook.\n",
    "\n",
    "Scopes used in this notebook are documented at: https://developer.spotify.com/documentation/general/guides/scopes"
   ],
   "metadata": {
    "collapsed": false,
    "pycharm": {
     "name": "#%% md\n"
    }
   }
  },
  {
   "cell_type": "code",
   "execution_count": 29,
   "outputs": [],
   "source": [
    "@cached(cache=TTLCache(maxsize=16, ttl=3600))\n",
    "def auth_for_scope(scope):\n",
    "    sp = spotipy.Spotify(auth_manager=SpotifyOAuth(client_id=CLIENT_ID,\n",
    "                                               client_secret=CLIENT_SECRET,\n",
    "                                               scope=scope,\n",
    "                                               cache_path='.cache_' + scope,\n",
    "                                               redirect_uri='http://localhost:8000'))\n",
    "\n",
    "    return sp"
   ],
   "metadata": {
    "collapsed": false,
    "pycharm": {
     "name": "#%%\n"
    }
   }
  },
  {
   "cell_type": "markdown",
   "source": [
    "### Top Artists\n",
    "The next cell lists the top artists for you in the configured time window."
   ],
   "metadata": {
    "collapsed": false,
    "pycharm": {
     "name": "#%% md\n"
    }
   }
  },
  {
   "cell_type": "code",
   "execution_count": 30,
   "outputs": [
    {
     "name": "stdout",
     "output_type": "stream",
     "text": [
      "Name                                  Popularity  Genres\n",
      "----------------------------------  ------------  -----------------------------------------------------------------------------------------\n",
      "Pink Floyd                                    84  ['album rock', 'art rock', 'classic rock', 'progressive rock', 'psychedelic rock']\n",
      "Coldplay                                      89  ['permanent wave', 'pop']\n",
      "Cat Music                                     60  ['pet calming']\n",
      "Dream Theater                                 66  ['metal', 'neo classical metal', 'power metal', 'progressive metal', 'progressive rock']\n",
      "Queen                                         90  ['classic rock', 'glam rock', 'rock']\n",
      "Keira Knightley                               54  ['hollywood']\n",
      "The Beatles                                   89  ['beatlesque', 'british invasion', 'classic rock', 'merseybeat', 'psychedelic rock']\n",
      "The Rolling Stones                            84  ['album rock', 'british invasion', 'classic rock', 'rock']\n",
      "The Who                                       74  ['album rock', 'art rock', 'british invasion', 'classic rock', 'folk rock']\n",
      "Adam Levine                                   73  ['pop rock']\n",
      "Leslie Odom Jr.                               82  ['broadway', 'show tunes', 'vocal jazz']\n",
      "Lin-Manuel Miranda                            84  ['show tunes']\n",
      "Guns N' Roses                                 83  ['glam metal', 'hard rock', 'rock']\n",
      "Green Day                                     84  ['permanent wave', 'pop punk', 'punk']\n",
      "Led Zeppelin                                  82  ['album rock', 'classic rock', 'hard rock', 'rock']\n",
      "Rihanna                                       91  ['barbadian pop', 'dance pop', 'pop', 'post-teen pop', 'r&b']\n",
      "Lana Del Rey                                  87  ['art pop', 'pop']\n",
      "Nirvana                                       83  ['alternative rock', 'grunge', 'permanent wave', 'rock']\n",
      "AC/DC                                         86  ['album rock', 'australian rock', 'hard rock', 'rock']\n",
      "Eagles                                        80  ['album rock', 'classic rock', 'country rock', 'folk rock', 'heartland rock']\n",
      "Creedence Clearwater Revival                  81  ['album rock', 'classic rock', 'country rock', 'rock', 'roots rock']\n",
      "Eric Clapton                                  77  ['album rock', 'blues rock', 'classic rock', 'electric blues', 'mellow gold']\n",
      "Original Broadway Cast of Hamilton            85  ['broadway']\n",
      "Bon Jovi                                      82  ['glam metal', 'rock']\n",
      "David Bowie                                   82  ['album rock', 'art rock', 'classic rock', 'dance rock', 'glam rock']\n",
      "Simon & Garfunkel                             77  ['classic rock', 'folk', 'folk rock', 'melancholia', 'mellow gold']\n",
      "The Police                                    78  ['album rock', 'art rock', 'classic rock', 'dance rock', 'mellow gold']\n",
      "Bob Dylan                                     78  ['classic rock', 'country rock', 'folk', 'folk rock', 'rock']\n",
      "Phillipa Soo                                  77  ['hollywood', 'show tunes']\n",
      "John Legend                                   83  ['neo mellow', 'neo soul', 'pop', 'pop soul', 'r&b']\n",
      "Van Morrison                                  77  ['classic rock', 'folk', 'folk rock', 'mellow gold', 'rock']\n",
      "Megadeth                                      72  ['album rock', 'alternative metal', 'hard rock', 'melodic thrash', 'metal']\n",
      "Deep Purple                                   72  ['album rock', 'blues rock', 'classic rock', 'hard rock', 'metal']\n",
      "Christopher Jackson                           72  ['hollywood', 'show tunes']\n",
      "Iron Maiden                                   77  ['album rock', 'hard rock', 'metal', 'nwobhm', 'rock']\n",
      "The Weeknd                                    96  ['canadian contemporary r&b', 'canadian pop', 'pop']\n",
      "Lynyrd Skynyrd                                76  ['album rock', 'blues rock', 'classic rock', 'country rock', 'hard rock']\n",
      "The Chainsmokers                              86  ['dance pop', 'edm', 'electropop', 'pop', 'tropical house']\n",
      "Renée Elise Goldsberry                        73  ['hollywood', 'show tunes']\n",
      "Joe Cocker                                    71  ['album rock', 'blues rock', 'classic rock', 'folk rock', 'mellow gold']\n",
      "R.E.M.                                        77  ['alternative rock', 'classic rock', 'permanent wave', 'pop rock', 'rock']\n",
      "The Doors                                     77  ['acid rock', 'album rock', 'classic rock', 'psychedelic rock', 'rock']\n",
      "Selena Gomez                                  90  ['dance pop', 'pop', 'post-teen pop']\n",
      "Anthony Ramos                                 78  ['hollywood', 'show tunes']\n",
      "The Clash                                     75  ['classic rock', 'dance rock', 'permanent wave', 'punk', 'rock']\n",
      "Foo Fighters                                  81  ['alternative metal', 'alternative rock', 'modern rock', 'permanent wave', 'post-grunge']\n",
      "Scorpions                                     76  ['album rock', 'german hard rock', 'german metal', 'german rock', 'hard rock']\n",
      "Billy Joel                                    80  ['album rock', 'classic rock', 'folk rock', 'mellow gold', 'piano rock']\n",
      "Poets of the Fall                             56  ['alternative metal', 'finnish alternative rock']\n",
      "Jonathan Groff                                73  ['hollywood', 'show tunes']\n"
     ]
    }
   ],
   "source": [
    "results = auth_for_scope('user-top-read').current_user_top_artists(limit=50, time_range=TIME_RANGE)\n",
    "\n",
    "output = []\n",
    "for idx, item in enumerate(results['items']):\n",
    "    name = item['name']\n",
    "    popularity = item['popularity']\n",
    "    genres = item['genres'][:5]\n",
    "    output.append([name, popularity, genres])\n",
    "\n",
    "print(tabulate(output, headers=['Name', 'Popularity', 'Genres']))"
   ],
   "metadata": {
    "collapsed": false,
    "pycharm": {
     "name": "#%%\n"
    }
   }
  },
  {
   "cell_type": "markdown",
   "source": [
    "### Top Genres\n",
    "The next cell lists the top genres you've listened to recently - last 50 songs."
   ],
   "metadata": {
    "collapsed": false,
    "pycharm": {
     "name": "#%% md\n"
    }
   }
  },
  {
   "cell_type": "code",
   "execution_count": 31,
   "outputs": [
    {
     "name": "stdout",
     "output_type": "stream",
     "text": [
      "Gneres                 Plays\n",
      "-------------------  -------\n",
      "rock                      40\n",
      "alternative rock          28\n",
      "permanent wave            20\n",
      "mellow gold               19\n",
      "soft rock                 19\n",
      "alternative metal         16\n",
      "modern rock               15\n",
      "folk rock                 14\n",
      "classic rock              11\n",
      "grunge                    11\n",
      "post-grunge               11\n",
      "album rock                10\n",
      "pop rock                   9\n",
      "nu metal                   8\n",
      "adult standards            7\n",
      "hard rock                  7\n",
      "piano rock                 6\n",
      "folk                       6\n",
      "singer-songwriter          5\n",
      "classic country pop        5\n",
      "yacht rock                 5\n",
      "pop punk                   5\n",
      "modern power pop           4\n",
      "country rock               3\n",
      "heartland rock             3\n",
      "funk metal                 3\n",
      "funk rock                  3\n",
      "glam rock                  2\n",
      "supergroup                 2\n",
      "neo mellow                 2\n",
      "traditional folk           1\n",
      "blues rock                 1\n",
      "art rock                   1\n",
      "progressive rock           1\n",
      "new wave pop               1\n",
      "quiet storm                1\n",
      "emo                        1\n",
      "lo-fi beats                1\n"
     ]
    }
   ],
   "source": [
    "auth = auth_for_scope('user-read-recently-played')\n",
    "recently_played_tracks = auth.current_user_recently_played()\n",
    "\n",
    "output = {}\n",
    "for item in recently_played_tracks['items']:\n",
    "    for artist in item['track']['artists']:\n",
    "        for genre in auth.artist(artist['id'])['genres']:\n",
    "            output[genre] = output.get(genre, 0) + 1\n",
    "\n",
    "output = sorted([(k, v) for k, v in output.items()], key=lambda x: x[1], reverse=True)\n",
    "\n",
    "print(tabulate(output, headers=['Gneres', 'Plays']))\n"
   ],
   "metadata": {
    "collapsed": false,
    "pycharm": {
     "name": "#%%\n"
    }
   }
  }
 ],
 "metadata": {
  "kernelspec": {
   "display_name": "Python 3",
   "language": "python",
   "name": "python3"
  },
  "language_info": {
   "codemirror_mode": {
    "name": "ipython",
    "version": 2
   },
   "file_extension": ".py",
   "mimetype": "text/x-python",
   "name": "python",
   "nbconvert_exporter": "python",
   "pygments_lexer": "ipython2",
   "version": "2.7.6"
  }
 },
 "nbformat": 4,
 "nbformat_minor": 0
}